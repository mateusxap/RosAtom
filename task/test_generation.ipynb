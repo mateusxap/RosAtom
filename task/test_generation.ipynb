{
 "cells": [
  {
   "cell_type": "markdown",
   "metadata": {},
   "source": [
    "# START"
   ]
  },
  {
   "cell_type": "code",
   "execution_count": null,
   "metadata": {},
   "outputs": [],
   "source": [
    "import faker\n",
    "import mimesis"
   ]
  },
  {
   "cell_type": "markdown",
   "metadata": {},
   "source": [
    "### SAMPLE FROM DOCS\n",
    "https://mimesis.name/en/master/tips.html"
   ]
  },
  {
   "cell_type": "code",
   "execution_count": null,
   "metadata": {},
   "outputs": [],
   "source": [
    "# file dummy_endpoints.py\n",
    "\n",
    "# from mimesis.schema import Field, Schema\n",
    "# from mimesis.locales import Locale\n",
    "# from mimesis.enums import Gender\n",
    "\n",
    "# _ = Field(Locale.EN)\n",
    "# dummy_users = Schema(\n",
    "#     lambda: {\n",
    "#         'id': _('uuid'),\n",
    "#         'name': _('name', gender=Gender.MALE),\n",
    "#         'surname': _('surname', gender=Gender.MALE),\n",
    "#         'email': _('email'),\n",
    "#         'age': _('age'),\n",
    "#         'username': _('username', template='UU_d'),\n",
    "#         'occupation': _('occupation'),\n",
    "#         \"address\": {\n",
    "#             \"street\": _('street_name'),\n",
    "#             \"city\": _('city'),\n",
    "#             \"zipcode\": _('zip_code'),\n",
    "#         },\n",
    "#     }\n",
    "# )\n",
    "\n",
    "# flask API endpoint in other file\n",
    "# from dummy_endpoints import dummy_users\n",
    "\n",
    "# @app.route('/users')\n",
    "# def users():\n",
    "#     dummy_data = dummy_users.create(iterations=1)\n",
    "#     return jsonify(dummy_data)"
   ]
  },
  {
   "cell_type": "markdown",
   "metadata": {},
   "source": [
    "https://mimesis.name/en/master/api.html\n",
    "\n",
    "много всего, но часть мелких деталей отсутствует"
   ]
  },
  {
   "cell_type": "code",
   "execution_count": 8,
   "metadata": {},
   "outputs": [],
   "source": [
    "from mimesis import Generic\n",
    "from mimesis.locales import Locale\n",
    "from mimesis.builtins import RussiaSpecProvider\n",
    "\n",
    "generic = Generic(locale = Locale.RU, seed = 'Greenatom SEED')\n",
    "generic.add_provider(RussiaSpecProvider)"
   ]
  },
  {
   "cell_type": "code",
   "execution_count": null,
   "metadata": {},
   "outputs": [],
   "source": [
    "# Company\n",
    "generic.finance.company_type(abbr = True) # ОАО, ЗАО итд\n",
    "generic.finance.company() # Название компании\n",
    "generic.russia_provider.bic() # БИК\n",
    "generic.russia_provider.inn() # ИНН\n",
    "generic.russia_provider.ogrn() # ОГРН\n",
    "generic.russia_provider.kpp() # Код причины постановки\n",
    "# Bio\n",
    "generic.person.name() # Имя\n",
    "generic.russia_provider.patronymic(gender = None) # Отчество\n",
    "generic.person.surname() # Фамилия\n",
    "generic.russia_provider.series_and_number() # паспорт серия и номер через пробел\n",
    "generic.russia_provider.snils() # СНИЛС\n",
    "generic.person.telephone() # Телефон\n",
    "# City, street\n",
    "generic.address.state() # Область\n",
    "generic.address.city() # Город\n",
    "generic.address.street_suffix() # ул., просп....\n",
    "generic.address.address() # улица, дом\n",
    "generic.address.postal_code() # Почтовый индекс\n",
    "# Other\n",
    "generic.datetime.date() # дата\n",
    "generic.text.text(quantity = 5) # текст - абзац\n",
    "generic.text.sentence() # предложение\n",
    "generic.random.custom_code(mask = '@###', char = '@', digit = '#') # Код в заданном формате"
   ]
  },
  {
   "cell_type": "markdown",
   "metadata": {},
   "source": [
    "https://faker.readthedocs.io/en/master/locales/ru_RU.html#faker-providers-address\n",
    "\n",
    "faker погибче, дает больше специфичной информации, но мало провайдеров"
   ]
  },
  {
   "cell_type": "code",
   "execution_count": null,
   "metadata": {},
   "outputs": [],
   "source": [
    "from faker import Faker\n",
    "fake = Faker('ru-RU')"
   ]
  },
  {
   "cell_type": "code",
   "execution_count": null,
   "metadata": {},
   "outputs": [],
   "source": [
    "fake.bank()\n",
    "fake.bic()\n",
    "fake.checking_account()\n",
    "fake.correspondent_account()\n",
    "fake.adress()\n",
    "fake.administrative_unit()"
   ]
  }
 ],
 "metadata": {
  "kernelspec": {
   "display_name": "Python 3",
   "language": "python",
   "name": "python3"
  },
  "language_info": {
   "codemirror_mode": {
    "name": "ipython",
    "version": 3
   },
   "file_extension": ".py",
   "mimetype": "text/x-python",
   "name": "python",
   "nbconvert_exporter": "python",
   "pygments_lexer": "ipython3",
   "version": "3.10.9 (tags/v3.10.9:1dd9be6, Dec  6 2022, 20:01:21) [MSC v.1934 64 bit (AMD64)]"
  },
  "orig_nbformat": 4,
  "vscode": {
   "interpreter": {
    "hash": "26de051ba29f2982a8de78e945f0abaf191376122a1563185a90213a26c5da77"
   }
  }
 },
 "nbformat": 4,
 "nbformat_minor": 2
}
